{
 "cells": [
  {
   "cell_type": "code",
   "execution_count": 2,
   "id": "485ecf92",
   "metadata": {},
   "outputs": [],
   "source": [
    "import pandas as pd\n",
    "import geopandas as gpd"
   ]
  },
  {
   "cell_type": "code",
   "execution_count": 26,
   "id": "6d2abb82",
   "metadata": {},
   "outputs": [],
   "source": [
    "def load_data():\n",
    "    # Load the CSV data\n",
    "    df = pd.read_csv('dados/Unidades_Basicas_Saude-UBS.csv', encoding='utf-8', sep=';')\n",
    "\n",
    "    # Load the shapefile data\n",
    "    gdf = gpd.read_file('dados/PR_Municipios_2024/PR_Municipios_2024.shp')\n",
    "\n",
    "    return df, gdf"
   ]
  },
  {
   "cell_type": "code",
   "execution_count": 34,
   "id": "e7a09518",
   "metadata": {},
   "outputs": [],
   "source": [
    "ubs, municipios_pr = load_data()\n",
    "\n",
    "ubs_pr = ubs[ubs['UF'] == 41]"
   ]
  },
  {
   "cell_type": "code",
   "execution_count": null,
   "id": "4584bfa5",
   "metadata": {},
   "outputs": [],
   "source": [
    "def "
   ]
  }
 ],
 "metadata": {
  "kernelspec": {
   "display_name": "otimizacao-ubs",
   "language": "python",
   "name": "python3"
  },
  "language_info": {
   "codemirror_mode": {
    "name": "ipython",
    "version": 3
   },
   "file_extension": ".py",
   "mimetype": "text/x-python",
   "name": "python",
   "nbconvert_exporter": "python",
   "pygments_lexer": "ipython3",
   "version": "3.10.8"
  }
 },
 "nbformat": 4,
 "nbformat_minor": 5
}
